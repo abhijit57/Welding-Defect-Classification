{
 "cells": [
  {
   "cell_type": "markdown",
   "id": "15504d8a",
   "metadata": {
    "id": "15504d8a",
    "pycharm": {
     "name": "#%% md\n"
    }
   },
   "source": [
    "## Importing necessary libraries"
   ]
  },
  {
   "cell_type": "code",
   "execution_count": null,
   "id": "18ebd075",
   "metadata": {
    "pycharm": {
     "name": "#%%\n"
    }
   },
   "outputs": [],
   "source": []
  },
  {
   "cell_type": "code",
   "execution_count": null,
   "id": "ed1b1cac",
   "metadata": {
    "pycharm": {
     "name": "#%%\n"
    }
   },
   "outputs": [],
   "source": [
    "# Data Manipulation and Visualization\n",
    "import os\n",
    "import pandas as pd\n",
    "import numpy as np\n",
    "import matplotlib.pyplot as plt\n",
    "import seaborn as sns\n",
    "from sklearn.decomposition import PCA\n",
    "\n",
    "# PyTorch, Torchvision, and vision related libraries\n",
    "import torch\n",
    "import torch.nn as nn\n",
    "import torch.nn.functional as f\n",
    "import torchvision\n",
    "import torch_optimizer as tor_optim\n",
    "from torch.optim import Adam, RMSprop, SGD\n",
    "from torch.utils.data import Dataset\n",
    "from torch.utils.data import DataLoader\n",
    "from torchvision import transforms\n",
    "from torchvision.datasets import ImageFolder\n",
    "from torchvision.models import resnet50, shufflenetv2\n",
    "\n",
    "# OpenCV, Pillow, SKImage, Albumentations\n",
    "import cv2\n",
    "import PIL\n",
    "import albumentations as al\n",
    "from albumentations.pytorch import ToTensorV2\n",
    "from PIL import Image\n",
    "from skimage import io\n",
    "\n",
    "# Logging and inbuilt libraries\n",
    "import wandb # weights and biases library\n",
    "import pickle\n",
    "import random, os, sys, logging\n",
    "import ipywidgets as widgets\n",
    "from tqdm import tqdm\n",
    "from ipywidgets import interact,interactive,interact_manual\n",
    "import warnings\n",
    "warnings.filterwarnings(\"ignore\")\n",
    "\n",
    "logging.propagate = False\n",
    "logging.getLogger().setLevel(logging.ERROR)\n"
   ]
  },
  {
   "cell_type": "markdown",
   "id": "5e9134c8",
   "metadata": {
    "pycharm": {
     "name": "#%% md\n"
    }
   },
   "source": [
    "## Reading Images"
   ]
  },
  {
   "cell_type": "code",
   "execution_count": null,
   "id": "7405a163",
   "metadata": {
    "pycharm": {
     "name": "#%%\n"
    }
   },
   "outputs": [],
   "source": [
    "# Specify the folder names required for generating paths below\n",
    "train_good = ['images', 'train', 'good']\n",
    "train_bad  = ['images', 'train', 'bad']\n",
    "test_good  = ['images', 'test', 'good']\n",
    "test_bad   = ['images', 'test', 'bad']"
   ]
  },
  {
   "cell_type": "code",
   "execution_count": null,
   "id": "fb6a4e3b",
   "metadata": {
    "pycharm": {
     "name": "#%%\n"
    }
   },
   "outputs": [],
   "source": [
    "# Generate required paths for the train and test folders\n",
    "owd = os.getcwd()\n",
    "train_good = os.path.join(owd,*train_good)\n",
    "train_bad  = os.path.join(owd,*train_bad)\n",
    "test_good  = os.path.join(owd,*test_good)\n",
    "test_bad   = os.path.join(owd,*test_bad)\n",
    "\n",
    "print(f'Train Good Images Directory: {train_good}')\n",
    "print(f'Train Bad Images Directory: {train_bad}')\n",
    "print(f'Test Good Images Directory: {test_good}')\n",
    "print(f'Test Bad Images Directory: {test_bad}')"
   ]
  },
  {
   "cell_type": "code",
   "execution_count": null,
   "id": "b1500c05",
   "metadata": {
    "pycharm": {
     "name": "#%%\n"
    }
   },
   "outputs": [],
   "source": [
    "for infile in os.listdir(train_good):\n",
    "    print(infile)"
   ]
  },
  {
   "cell_type": "code",
   "execution_count": null,
   "id": "cadec675",
   "metadata": {
    "pycharm": {
     "name": "#%%\n"
    }
   },
   "outputs": [],
   "source": [
    "for infile in os.listdir(train_bad):\n",
    "    print(infile)"
   ]
  },
  {
   "cell_type": "code",
   "execution_count": null,
   "id": "03fa9869",
   "metadata": {
    "pycharm": {
     "name": "#%%\n"
    }
   },
   "outputs": [],
   "source": [
    "for infile in os.listdir(test_good):\n",
    "    print(infile)"
   ]
  },
  {
   "cell_type": "code",
   "execution_count": null,
   "id": "b087aae6",
   "metadata": {
    "pycharm": {
     "name": "#%%\n"
    }
   },
   "outputs": [],
   "source": [
    "for infile in os.listdir(test_bad):\n",
    "    im = Image.open(os.path.join(test_bad,infile))\n",
    "    #im.show()\n",
    "    print(infile)\n",
    "    "
   ]
  },
  {
   "cell_type": "markdown",
   "id": "05c5c604",
   "metadata": {
    "pycharm": {
     "name": "#%% md\n"
    }
   },
   "source": [
    "## Image Pre-Processing and Augmentation"
   ]
  },
  {
   "cell_type": "code",
   "execution_count": null,
   "id": "89ac271e",
   "metadata": {
    "pycharm": {
     "name": "#%%\n"
    }
   },
   "outputs": [],
   "source": [
    "# Resizing Images\n",
    "HEIGHT = 128\n",
    "WIDTH  = 128"
   ]
  },
  {
   "cell_type": "code",
   "execution_count": null,
   "id": "49f49235",
   "metadata": {
    "pycharm": {
     "name": "#%%\n"
    }
   },
   "outputs": [],
   "source": [
    "# Defining Transformations required for augmenting the images\n",
    "transform = al.Compose([\n",
    "            al.Resize(width=WIDTH, height=HEIGHT,p=1.0),\n",
    "    \n",
    "            al.Rotate(limit=90, p=1.0),\n",
    "    \n",
    "            al.HorizontalFlip(p=0.3),\n",
    "    \n",
    "            al.VerticalFlip(p=0.2),\n",
    "    \n",
    "            al.ColorJitter(contrast=2, p=0.2),\n",
    "    \n",
    "            al.ColorJitter(brightness=2, p=0.2),\n",
    "    \n",
    "            al.Normalize(\n",
    "                mean=[0.0, 0.0, 0.0],\n",
    "                std=[1.0, 1.0, 1.0],\n",
    "                max_pixel_value=255.0,\n",
    "            p=1.0),\n",
    "])"
   ]
  },
  {
   "cell_type": "code",
   "execution_count": null,
   "id": "c25d2847",
   "metadata": {
    "pycharm": {
     "name": "#%%\n"
    }
   },
   "outputs": [],
   "source": [
    "# Augmented Images Directories\n",
    "aug_train_good = 'C:/Users/abhij/OneDrive - Indiana University/3rd Semester/Intro to Intelligent Systems/Project/images/aug_train/good'\n",
    "aug_train_bad  = 'C:/Users/abhij/OneDrive - Indiana University/3rd Semester/Intro to Intelligent Systems/Project/images/aug_train/bad'"
   ]
  },
  {
   "cell_type": "code",
   "execution_count": null,
   "id": "77e76d12",
   "metadata": {
    "pycharm": {
     "name": "#%%\n"
    }
   },
   "outputs": [],
   "source": [
    "def augment(IMG_DIR, AUG_PATH_IMAGE, num):\n",
    "    print(\"*******************Augmentation Started*****************************\")\n",
    "    for i, infile in enumerate(os.listdir(IMG_DIR)):\n",
    "        image = cv2.imread(os.path.join(IMG_DIR,infile))\n",
    "        image = cv2.cvtColor(image, cv2.COLOR_BGR2RGB)\n",
    "\n",
    "        for j in range(num):\n",
    "            transformed = transform(image=image)\n",
    "            transformed_image = transformed['image']\n",
    "            transformed_image = transformed_image*255\n",
    "            transformed_image = cv2.cvtColor(transformed_image, cv2.COLOR_BGR2RGB)\n",
    "            fname = AUG_PATH_IMAGE + '/' + infile[:-4]+ '_'+str(j)+'.jpg'\n",
    "            cv2.imwrite(fname, transformed_image)\n",
    "    print()\n",
    "    print(\"*******************Augmentation Finished*****************************\")"
   ]
  },
  {
   "cell_type": "code",
   "execution_count": null,
   "id": "4d942bf7",
   "metadata": {
    "pycharm": {
     "name": "#%%\n"
    }
   },
   "outputs": [],
   "source": [
    "augment(train_good, aug_train_good, 30)"
   ]
  },
  {
   "cell_type": "code",
   "execution_count": null,
   "id": "ffffb11a",
   "metadata": {
    "pycharm": {
     "name": "#%%\n"
    }
   },
   "outputs": [],
   "source": [
    "augment(train_bad, aug_train_bad, 125)"
   ]
  },
  {
   "cell_type": "code",
   "execution_count": null,
   "id": "c5cfbdcf",
   "metadata": {
    "pycharm": {
     "name": "#%%\n"
    }
   },
   "outputs": [],
   "source": []
  },
  {
   "cell_type": "code",
   "execution_count": null,
   "id": "adb0d8b3",
   "metadata": {
    "pycharm": {
     "name": "#%%\n"
    }
   },
   "outputs": [],
   "source": [
    "# Creating a csv file for train data to generate labels for all the good and bad images\n",
    "\n",
    "# labels_traindf = pd.DataFrame()\n",
    "\n",
    "# arr_img_tr = []\n",
    "# arr_lab_tr = []\n",
    "# for i in os.listdir(aug_train_good):\n",
    "#     arr_img_tr.append(i)\n",
    "#     arr_lab_tr.append(1)\n",
    "\n",
    "# for i in os.listdir(aug_train_bad):\n",
    "#     arr_img_tr.append(i)\n",
    "#     arr_lab_tr.append(0)\n",
    "    \n",
    "# labels_traindf['Image_fnames'] = arr_img_tr\n",
    "# labels_traindf['labels']       = arr_lab_tr\n",
    "# labels_traindf.to_csv('train.csv', index=False)"
   ]
  },
  {
   "cell_type": "code",
   "execution_count": null,
   "id": "75058592",
   "metadata": {
    "pycharm": {
     "name": "#%%\n"
    }
   },
   "outputs": [],
   "source": [
    "# Creating a csv file for test data to generate labels for all the good and bad images\n",
    "\n",
    "# labels_testdf  = pd.DataFrame()\n",
    "\n",
    "# arr_img_te = []\n",
    "# arr_lab_te = []\n",
    "# for i in os.listdir(test_good):\n",
    "#     arr_img_te.append(i)\n",
    "#     arr_lab_te.append(1)\n",
    "\n",
    "# for i in os.listdir(test_bad):\n",
    "#     arr_img_te.append(i)\n",
    "#     arr_lab_te.append(0)\n",
    "    \n",
    "# labels_testdf['Image_fnames'] = arr_img_te\n",
    "# labels_testdf['labels']       = arr_lab_te\n",
    "# labels_testdf.to_csv('test.csv', index=False)"
   ]
  },
  {
   "cell_type": "code",
   "execution_count": null,
   "id": "d3ed72ad",
   "metadata": {
    "pycharm": {
     "name": "#%%\n"
    }
   },
   "outputs": [],
   "source": [
    "# Creating a Dataset class \n",
    "# class WeldDataset(Dataset):\n",
    "#     def __init__(self, csv_file, root_dir, transform=None):\n",
    "#         self.annotations = pd.read_csv(csv_file)\n",
    "#         self.root_dir    = root_dir\n",
    "#         self.transform   = transform\n",
    "        \n",
    "#     def __len__(self):\n",
    "#         return len(self.annotations)   # train_set -> 8930, test_set -> 30\n",
    "        \n",
    "#     # Return a specific image and corresponding label to that image\n",
    "#     def __getitem__(self, index):\n",
    "#         # Index -> we don't have to choose it, PyTorch does it for us\n",
    "#         img_path = os.path.join(self.root_dir, self.annotations.iloc[index, 0])\n",
    "#         image    = io.imread(img_path)\n",
    "#         y_label  = torch.tensor(int(self.annotations.iloc[index, 1]))\n",
    "        \n",
    "#         if self.transform:\n",
    "#             image = self.tranform(image)\n",
    "            \n",
    "#         return (image, ylabel)   # returns 1 image and 1 corresponding label to that image"
   ]
  },
  {
   "cell_type": "code",
   "execution_count": null,
   "id": "82a2895d",
   "metadata": {
    "pycharm": {
     "name": "#%%\n"
    }
   },
   "outputs": [],
   "source": [
    "# Loading the data\n",
    "# train_dataset = WeldDataset(csv_file = 'train.csv', root_dir = 'train_set', transform = train_transform)\n",
    "# test_dataset  = WeldDataset(csv_file = 'test.csv', root_dir = 'test_set', transform = test_transform)\n",
    "\n",
    "# train_loader = DataLoader(dataset=train_dataset, batch_size = batch_size, shuffle=True)\n",
    "# test_loader  = DataLoader(dataset=test_dataset, batch_size = batch_size, shuffle=True)"
   ]
  },
  {
   "cell_type": "code",
   "execution_count": null,
   "id": "05d2fc7a",
   "metadata": {
    "pycharm": {
     "name": "#%%\n"
    }
   },
   "outputs": [],
   "source": []
  },
  {
   "cell_type": "code",
   "execution_count": null,
   "id": "0d061b16",
   "metadata": {
    "pycharm": {
     "name": "#%%\n"
    }
   },
   "outputs": [],
   "source": [
    "# Defining classes related to weld defects\n",
    "classes = ['bad', 'good']\n",
    "\n",
    "for labels in enumerate(classes):\n",
    "    print(labels)"
   ]
  },
  {
   "cell_type": "code",
   "execution_count": null,
   "id": "7b6b2fa9",
   "metadata": {
    "pycharm": {
     "name": "#%%\n"
    }
   },
   "outputs": [],
   "source": [
    "# Defining final transformation to be applied to train and test images for creating dataloaders\n",
    "# Normalization values are specific to the ResNet models, because ResNet models have been pre-trained on these values\n",
    "\n",
    "train_transform = transforms.Compose([\n",
    "        transforms.Resize((WIDTH, HEIGHT)),\n",
    "        transforms.ToTensor(),\n",
    "        transforms.Normalize(mean=[0.485, 0.456, 0.406],\n",
    "                             std=[0.229, 0.224, 0.225])\n",
    "    ])\n",
    "\n",
    "test_transform = transforms.Compose([\n",
    "        transforms.Resize((WIDTH, HEIGHT)),\n",
    "        transforms.ToTensor(),\n",
    "        transforms.Normalize(mean=[0.485, 0.456, 0.406],\n",
    "                             std=[0.229, 0.224, 0.225])\n",
    "    ])"
   ]
  },
  {
   "cell_type": "markdown",
   "id": "9e4506fd",
   "metadata": {
    "pycharm": {
     "name": "#%% md\n"
    }
   },
   "source": [
    "#### Hyperparameters"
   ]
  },
  {
   "cell_type": "code",
   "execution_count": null,
   "id": "49cfeaf8",
   "metadata": {
    "pycharm": {
     "name": "#%%\n"
    }
   },
   "outputs": [],
   "source": [
    "# Initializing the values\n",
    "in_channel    = 3\n",
    "num_classes   = 2\n",
    "learning_rate = 0.01\n",
    "batch_size    = 32\n",
    "num_epochs    = 20"
   ]
  },
  {
   "cell_type": "markdown",
   "id": "31095018",
   "metadata": {
    "pycharm": {
     "name": "#%% md\n"
    }
   },
   "source": [
    "#### Loading Datasets and Creating DataLoaders"
   ]
  },
  {
   "cell_type": "code",
   "execution_count": null,
   "id": "602c16a9",
   "metadata": {},
   "outputs": [],
   "source": []
  },
  {
   "cell_type": "raw",
   "id": "cd32a4e5",
   "metadata": {
    "pycharm": {
     "name": "#%%\n"
    }
   },
   "source": [
    "# Load Datasets\n",
    "train_dataset = ImageFolder(\"images/aug_train\", train_transform)\n",
    "test_dataset = ImageFolder(\"images/test\", test_transform)\n",
    "\n",
    "print(f'Train Dataset: {train_dataset} \\nTest Dataset: {test_dataset}')\n",
    "print(f'Train Dataset Labels: {train_dataset.class_to_idx} \\nTest Dataset Labels: {test_dataset.class_to_idx}')\n",
    "\n",
    "# Create train and test dataloaders\n",
    "train_loader = DataLoader(dataset=train_dataset, batch_size=batch_size, shuffle=True)\n",
    "test_loader  = DataLoader(dataset=test_dataset, batch_size=batch_size, shuffle=True)"
   ]
  },
  {
   "cell_type": "markdown",
   "id": "9fc1bc91",
   "metadata": {
    "pycharm": {
     "name": "#%% md\n"
    }
   },
   "source": [
    "## ResNet 50 with Adam Optimizer"
   ]
  },
  {
   "cell_type": "code",
   "execution_count": null,
   "id": "f2a6d1ce",
   "metadata": {
    "pycharm": {
     "name": "#%%\n"
    }
   },
   "outputs": [],
   "source": [
    "# Setting the device as gpu or cpu\n",
    "device = ('cuda' if torch.cuda.is_available() else 'cpu')\n",
    "device"
   ]
  },
  {
   "cell_type": "code",
   "execution_count": null,
   "id": "922ab1b8",
   "metadata": {
    "pycharm": {
     "name": "#%%\n"
    }
   },
   "outputs": [],
   "source": [
    "# Loading pre-trained ResNet 50 model\n",
    "model = resnet50(pretrained = True)"
   ]
  },
  {
   "cell_type": "code",
   "execution_count": null,
   "id": "9c2931af",
   "metadata": {
    "pycharm": {
     "name": "#%%\n"
    }
   },
   "outputs": [],
   "source": [
    "# Chaning the output layer of the resnet 50 model\n",
    "model.fc = nn.Linear(in_features=2048, out_features=2)\n",
    "model = model.to(device)"
   ]
  },
  {
   "cell_type": "code",
   "execution_count": null,
   "id": "a3f16c32",
   "metadata": {
    "pycharm": {
     "name": "#%%\n"
    }
   },
   "outputs": [],
   "source": [
    "# Checking if the model is on cuda/gpu or not\n",
    "next(model.parameters()).is_cuda"
   ]
  },
  {
   "cell_type": "markdown",
   "id": "84edb15e",
   "metadata": {
    "pycharm": {
     "name": "#%% md\n"
    }
   },
   "source": [
    "#### Optimizer and Loss Function"
   ]
  },
  {
   "cell_type": "code",
   "execution_count": null,
   "id": "35647cfa",
   "metadata": {
    "pycharm": {
     "name": "#%%\n"
    }
   },
   "outputs": [],
   "source": [
    "# Initializing Optimizer\n",
    "optimizer = Adam(model.parameters(), lr=learning_rate, weight_decay=0.0001)\n",
    "\n",
    "# Initializing Loss Function\n",
    "loss_fn = nn.CrossEntropyLoss()"
   ]
  },
  {
   "cell_type": "code",
   "execution_count": null,
   "id": "41099cb3",
   "metadata": {
    "pycharm": {
     "name": "#%%\n"
    }
   },
   "outputs": [],
   "source": [
    "# os.environ['CUDA_VISIBLE_DEVICES']='2, 3'"
   ]
  },
  {
   "cell_type": "markdown",
   "id": "3ae89628",
   "metadata": {
    "pycharm": {
     "name": "#%% md\n"
    }
   },
   "source": [
    "#### Training and Evaluate the Model"
   ]
  },
  {
   "cell_type": "code",
   "execution_count": null,
   "id": "e8a6c8c4",
   "metadata": {
    "pycharm": {
     "name": "#%%\n"
    }
   },
   "outputs": [],
   "source": []
  },
  {
   "cell_type": "code",
   "execution_count": null,
   "id": "f6168478",
   "metadata": {
    "pycharm": {
     "name": "#%%\n"
    }
   },
   "outputs": [],
   "source": [
    "def train_model(model):\n",
    "    train_loss     = []\n",
    "    for epoch in range(num_epochs):\n",
    "        running_loss = 0.0\n",
    "        with tqdm(train_loader, unit='batch') as te:\n",
    "            for i, (image, label) in enumerate(te):\n",
    "                image = image.to(device)\n",
    "                label = label.to(device)\n",
    "\n",
    "                pred = model(image)\n",
    "\n",
    "                loss = loss_fn(pred, label)\n",
    "\n",
    "                # train_prob = train_prob.cpu() # Assigining train_probabilites to cpu to prevent maxing out of CUDA memory\n",
    "                optimizer.zero_grad()\n",
    "                loss.backward()\n",
    "                optimizer.step()\n",
    "                running_loss += loss.item()\n",
    "                \n",
    "                if i % 70 == 69:    # print and store every 70 mini-batches: 4 times per epoch\n",
    "                    print(f'[{epoch + 1}, {i + 1:5d}] loss: {running_loss / 70:.3f}')\n",
    "                    train_loss.append(running_loss / 70)\n",
    "                    \n",
    "                    running_loss = 0.0\n",
    "                    \n",
    "    return model, train_loss"
   ]
  },
  {
   "cell_type": "code",
   "execution_count": null,
   "id": "4540e58d",
   "metadata": {
    "pycharm": {
     "name": "#%%\n"
    }
   },
   "outputs": [],
   "source": []
  },
  {
   "cell_type": "code",
   "execution_count": null,
   "id": "9a7802cf",
   "metadata": {
    "pycharm": {
     "name": "#%%\n"
    }
   },
   "outputs": [],
   "source": [
    "def test_model(model):\n",
    "    with torch.no_grad():\n",
    "        correct = 0\n",
    "        total = 0\n",
    "        for test_image, test_label in test_loader:\n",
    "            test_image = test_image.to(device)\n",
    "            test_label = test_label.to(device)\n",
    "            test_prob  = model(test_image)\n",
    "            # test_prob  = test_prob.cpu() \n",
    "\n",
    "            test_pred  = torch.max(test_prob, 1).indices\n",
    "    #         print(test_label, test_pred)\n",
    "    #         test_acc   += int(torch.sum(test_pred == test_label))\n",
    "            total += test_label.size(0)\n",
    "            correct += (test_pred == test_label).sum().item()\n",
    "\n",
    "        #ep_test_acc = test_acc / len(test_loader)\n",
    "\n",
    "        print(f'Accuracy of the network on the test images: {100 * correct // total} %')"
   ]
  },
  {
   "cell_type": "code",
   "execution_count": null,
   "id": "8a8521b2",
   "metadata": {
    "pycharm": {
     "name": "#%%\n"
    }
   },
   "outputs": [],
   "source": [
    "resnet_adam, train_loss_adam = train_model(model)"
   ]
  },
  {
   "cell_type": "code",
   "execution_count": null,
   "id": "0403cc35",
   "metadata": {
    "pycharm": {
     "name": "#%%\n"
    }
   },
   "outputs": [],
   "source": [
    "test_model(resnet_adam)"
   ]
  },
  {
   "cell_type": "code",
   "execution_count": null,
   "id": "501b2436",
   "metadata": {
    "pycharm": {
     "name": "#%%\n"
    }
   },
   "outputs": [],
   "source": []
  },
  {
   "cell_type": "code",
   "execution_count": null,
   "id": "24271fa2",
   "metadata": {
    "pycharm": {
     "name": "#%%\n"
    }
   },
   "outputs": [],
   "source": []
  },
  {
   "cell_type": "code",
   "execution_count": null,
   "id": "5619d103",
   "metadata": {
    "pycharm": {
     "name": "#%%\n"
    }
   },
   "outputs": [],
   "source": [
    "# Train Loss v Test Accuracy Plot_ResNet50_Adam\n",
    "plt.figure(figsize=(10,6))\n",
    "plt.plot(train_loss_adam, color='r')\n",
    "plt.xlabel('Epochs')\n",
    "plt.ylabel('Training Loss')\n",
    "plt.title('Train Loss ResNet 50_Adam Optimizer')\n",
    "plt.show()"
   ]
  },
  {
   "cell_type": "markdown",
   "id": "8fc51f89",
   "metadata": {
    "pycharm": {
     "name": "#%% md\n"
    }
   },
   "source": [
    "#### Saving Model"
   ]
  },
  {
   "cell_type": "code",
   "execution_count": null,
   "id": "f10c4273",
   "metadata": {
    "pycharm": {
     "name": "#%%\n"
    }
   },
   "outputs": [],
   "source": [
    "# Saving ResNet50 model with Adam optimizer\n",
    "torch.save(model.state_dict(), os.path.join(owd, 'ResNet50_Adam.pth'))"
   ]
  },
  {
   "cell_type": "markdown",
   "id": "f966c293",
   "metadata": {
    "pycharm": {
     "name": "#%% md\n"
    }
   },
   "source": [
    "#### Loading Model"
   ]
  },
  {
   "cell_type": "code",
   "execution_count": null,
   "id": "179d3cdf",
   "metadata": {
    "pycharm": {
     "name": "#%%\n"
    }
   },
   "outputs": [],
   "source": [
    "# model = TheModelClass(*args, **kwargs)\n",
    "# model.load_state_dict(torch.load(PATH))\n",
    "# model.to(device)\n",
    "# Make sure to call input = input.to(device) on any input tensors that you feed to the model"
   ]
  },
  {
   "cell_type": "code",
   "execution_count": null,
   "id": "72643112",
   "metadata": {
    "pycharm": {
     "name": "#%%\n"
    }
   },
   "outputs": [],
   "source": []
  },
  {
   "cell_type": "markdown",
   "id": "8b05c979",
   "metadata": {
    "pycharm": {
     "name": "#%% md\n"
    }
   },
   "source": [
    "## ResNet 50 -> SGD with Momentum Optimizer"
   ]
  },
  {
   "cell_type": "code",
   "execution_count": null,
   "id": "5ede1a82",
   "metadata": {
    "pycharm": {
     "name": "#%%\n"
    }
   },
   "outputs": [],
   "source": [
    "def train_model(model):\n",
    "    train_loss     = []\n",
    "    for epoch in range(num_epochs):\n",
    "        running_loss = 0.0\n",
    "        with tqdm(train_loader, unit='batch') as te:\n",
    "            for i, (image, label) in enumerate(te):\n",
    "                image = image.to(device)\n",
    "                label = label.to(device)\n",
    "\n",
    "                pred = model(image)\n",
    "\n",
    "                loss = loss_fn(pred, label)\n",
    "\n",
    "                # train_prob = train_prob.cpu() # Assigining train_probabilites to cpu to prevent maxing out of CUDA memory\n",
    "                optimizer.zero_grad()\n",
    "                loss.backward()\n",
    "                optimizer.step()\n",
    "                running_loss += loss.item()\n",
    "                \n",
    "                if i % 70 == 69:    # print and store every 70 mini-batches: 4 times per epoch\n",
    "                    print(f'[{epoch + 1}, {i + 1:5d}] loss: {running_loss / 70:.3f}')\n",
    "                    train_loss.append(running_loss / 70)\n",
    "                    \n",
    "                    running_loss = 0.0\n",
    "                    \n",
    "    return model, train_loss"
   ]
  },
  {
   "cell_type": "code",
   "execution_count": null,
   "id": "d40e9bdc",
   "metadata": {
    "pycharm": {
     "name": "#%%\n"
    }
   },
   "outputs": [],
   "source": [
    "def test_model(model):\n",
    "    with torch.no_grad():\n",
    "        correct = 0\n",
    "        total = 0\n",
    "        for test_image, test_label in test_loader:\n",
    "            test_image = test_image.to(device)\n",
    "            test_label = test_label.to(device)\n",
    "            test_prob  = model(test_image)\n",
    "            # test_prob  = test_prob.cpu() \n",
    "\n",
    "            test_pred  = torch.max(test_prob, 1).indices\n",
    "    #         print(test_label, test_pred)\n",
    "    #         test_acc   += int(torch.sum(test_pred == test_label))\n",
    "            total += test_label.size(0)\n",
    "            correct += (test_pred == test_label).sum().item()\n",
    "\n",
    "        #ep_test_acc = test_acc / len(test_loader)\n",
    "\n",
    "        print(f'Accuracy of the network on the test images: {100 * correct // total} %')"
   ]
  },
  {
   "cell_type": "code",
   "execution_count": null,
   "id": "79e797b6",
   "metadata": {
    "pycharm": {
     "name": "#%%\n"
    }
   },
   "outputs": [],
   "source": [
    "model = resnet50(pretrained = True)\n",
    "model.fc = nn.Linear(in_features=2048, out_features=2)\n",
    "model = model.to(device)\n",
    "\n",
    "# Initializing Optimizer\n",
    "optimizer = SGD(model.parameters(), momentum = 0.5, lr=learning_rate, weight_decay=0.0001)\n",
    "\n",
    "# Initializing Loss Function\n",
    "loss_fn = nn.CrossEntropyLoss()"
   ]
  },
  {
   "cell_type": "code",
   "execution_count": null,
   "id": "0cd8fb81",
   "metadata": {
    "pycharm": {
     "name": "#%%\n"
    }
   },
   "outputs": [],
   "source": [
    "resnet_sgd, train_loss_sgd = train_model(model)"
   ]
  },
  {
   "cell_type": "code",
   "execution_count": null,
   "id": "3d2630c3",
   "metadata": {
    "pycharm": {
     "name": "#%%\n"
    }
   },
   "outputs": [],
   "source": [
    "test_model(resnet_sgd)"
   ]
  },
  {
   "cell_type": "code",
   "execution_count": null,
   "id": "8535182b",
   "metadata": {
    "pycharm": {
     "name": "#%%\n"
    }
   },
   "outputs": [],
   "source": []
  },
  {
   "cell_type": "code",
   "execution_count": null,
   "id": "16969e97",
   "metadata": {
    "pycharm": {
     "name": "#%%\n"
    }
   },
   "outputs": [],
   "source": [
    "# Train Loss v Test Accuracy Plot_SGD with Momentum\n",
    "plt.figure(figsize=(8,5))\n",
    "plt.plot(train_loss_sgd, color='r')\n",
    "plt.xlabel('Epochs')\n",
    "plt.ylabel('training loss')\n",
    "plt.title('Train Loss ResNet 50_SGD Optimizer with Momentum')\n",
    "plt.show()"
   ]
  },
  {
   "cell_type": "code",
   "execution_count": null,
   "id": "c871d5a5",
   "metadata": {
    "pycharm": {
     "name": "#%%\n"
    }
   },
   "outputs": [],
   "source": [
    "# Saving ResNet50 model -> SGD Optimizer with momentum\n",
    "torch.save(resnet_sgd.state_dict(), os.path.join(owd, 'ResNet50_SGD_Momentum.pth'))"
   ]
  },
  {
   "cell_type": "markdown",
   "id": "1a048ba4",
   "metadata": {
    "pycharm": {
     "name": "#%% md\n"
    }
   },
   "source": [
    "## ResNet 50 -> RMSProp Optimizer"
   ]
  },
  {
   "cell_type": "code",
   "execution_count": null,
   "id": "1da9c63b",
   "metadata": {
    "pycharm": {
     "name": "#%%\n"
    }
   },
   "outputs": [],
   "source": [
    "model_rms = resnet50(pretrained = True)\n",
    "model_rms.fc = nn.Linear(in_features=2048, out_features=2)\n",
    "model_rms = model_rms.to(device)\n",
    "\n",
    "# Initializing Optimizer\n",
    "optimizer = RMSprop(model_rms.parameters(), lr=0.01)\n",
    "\n",
    "# Initializing Loss Function\n",
    "loss_fn = nn.CrossEntropyLoss()"
   ]
  },
  {
   "cell_type": "code",
   "execution_count": null,
   "id": "8a891f61",
   "metadata": {
    "pycharm": {
     "name": "#%%\n"
    }
   },
   "outputs": [],
   "source": [
    "resnet_prop, train_loss_rms = train_model(model_rms)"
   ]
  },
  {
   "cell_type": "code",
   "execution_count": null,
   "id": "3579f1db",
   "metadata": {
    "pycharm": {
     "name": "#%%\n"
    }
   },
   "outputs": [],
   "source": [
    "test_model(resnet_prop)"
   ]
  },
  {
   "cell_type": "code",
   "execution_count": null,
   "id": "7595adff",
   "metadata": {
    "pycharm": {
     "name": "#%%\n"
    }
   },
   "outputs": [],
   "source": []
  },
  {
   "cell_type": "code",
   "execution_count": null,
   "id": "c5caa63b",
   "metadata": {
    "pycharm": {
     "name": "#%%\n"
    }
   },
   "outputs": [],
   "source": [
    "# Train Loss v Test Accuracy Plot_RMSprop Optimizer\n",
    "plt.figure(figsize=(14,8))\n",
    "plt.plot(train_loss_rms, color='r')\n",
    "plt.xlabel('Epochs')\n",
    "plt.ylabel('Training loss')\n",
    "plt.title('Train Loss with ResNet 50 and RMSprop Optimizer')\n",
    "plt.show()"
   ]
  },
  {
   "cell_type": "code",
   "execution_count": null,
   "id": "b9feb279",
   "metadata": {
    "pycharm": {
     "name": "#%%\n"
    }
   },
   "outputs": [],
   "source": [
    "# Saving ResNet50 model -> _RMSprop Optimizer\n",
    "torch.save(resnet_prop.state_dict(), os.path.join(owd, 'ResNet50__RMSprop.pth'))"
   ]
  },
  {
   "cell_type": "markdown",
   "id": "05771840",
   "metadata": {
    "pycharm": {
     "name": "#%% md\n"
    }
   },
   "source": [
    "## ResNet 50 -> AdaBound Optimizer"
   ]
  },
  {
   "cell_type": "code",
   "execution_count": null,
   "id": "87b9bd75",
   "metadata": {
    "pycharm": {
     "name": "#%%\n"
    }
   },
   "outputs": [],
   "source": [
    "model = resnet50(pretrained = True)\n",
    "model.fc = nn.Linear(in_features=2048, out_features=2)\n",
    "model = model.to(device)\n",
    "\n",
    "# Initializing Optimizer\n",
    "optimizer = tor_optim.AdaBound(\n",
    "    model.parameters(),\n",
    "    lr= 1e-3,\n",
    "    betas= (0.9, 0.999),\n",
    "    final_lr = 0.1,\n",
    "    gamma=1e-3,\n",
    "    eps= 1e-8,\n",
    "    weight_decay=0,\n",
    "    amsbound=False,\n",
    ")\n",
    "\n",
    "# Initializing Loss Function\n",
    "loss_fn = nn.CrossEntropyLoss()"
   ]
  },
  {
   "cell_type": "code",
   "execution_count": null,
   "id": "2f96231c",
   "metadata": {
    "pycharm": {
     "name": "#%%\n"
    }
   },
   "outputs": [],
   "source": [
    "resnet_adb, train_loss_adb= train_model(model)"
   ]
  },
  {
   "cell_type": "code",
   "execution_count": null,
   "id": "f9bc45ee",
   "metadata": {
    "pycharm": {
     "name": "#%%\n"
    }
   },
   "outputs": [],
   "source": []
  },
  {
   "cell_type": "code",
   "execution_count": null,
   "id": "bf5d0bb0",
   "metadata": {
    "pycharm": {
     "name": "#%%\n"
    }
   },
   "outputs": [],
   "source": []
  },
  {
   "cell_type": "code",
   "execution_count": null,
   "id": "05e0bc34",
   "metadata": {
    "pycharm": {
     "name": "#%%\n"
    }
   },
   "outputs": [],
   "source": [
    "# # Train Loss v Test Accuracy Plot_AdaBound\n",
    "# plt.figure(figsize=(14,8))\n",
    "# plt.plot(train_loss_adb,'-o', color='r')\n",
    "# plt.plot(test_acc_adb,'-o', color='g')\n",
    "# plt.xlabel('Epochs')\n",
    "# plt.ylabel('Accuracy_Loss')\n",
    "# plt.legend(['Train Loss','Test Accuracy'])\n",
    "# plt.title('Train Loss vs Test Accuracy Plot_ResNet 50_AdaBound Optimizer')\n",
    "# plt.show()"
   ]
  },
  {
   "cell_type": "code",
   "execution_count": null,
   "id": "895f3904",
   "metadata": {
    "pycharm": {
     "name": "#%%\n"
    }
   },
   "outputs": [],
   "source": [
    "# Saving ResNet50 model -> AdaBound Optimizer\n",
    "torch.save(model.state_dict(), os.path.join(owd, 'ResNet50__AdaBound.pth'))"
   ]
  },
  {
   "cell_type": "markdown",
   "id": "680543cf",
   "metadata": {
    "pycharm": {
     "name": "#%% md\n"
    }
   },
   "source": [
    "## ShuffleNet v2 with AdaBound Optimizer"
   ]
  },
  {
   "cell_type": "code",
   "execution_count": null,
   "id": "87f2fdd3",
   "metadata": {
    "pycharm": {
     "name": "#%%\n"
    }
   },
   "outputs": [],
   "source": [
    "# Loading pre-trained ShuffleNet v2 model\n",
    "shufflenet = torch.hub.load('pytorch/vision:v0.10.0', 'shufflenet_v2_x1_0', pretrained=True)"
   ]
  },
  {
   "cell_type": "code",
   "execution_count": null,
   "id": "4f866b4f",
   "metadata": {
    "pycharm": {
     "name": "#%%\n"
    }
   },
   "outputs": [],
   "source": [
    "# Chaning the output layer of the shufflenet v2 model\n",
    "shufflenet.fc = nn.Linear(in_features=1024, out_features=2)\n",
    "shufflenet = shufflenet.to(device)"
   ]
  },
  {
   "cell_type": "code",
   "execution_count": null,
   "id": "3f96a604",
   "metadata": {
    "pycharm": {
     "name": "#%%\n"
    }
   },
   "outputs": [],
   "source": [
    "# Initializing Optimizer\n",
    "optimizer = tor_optim.AdaBound(\n",
    "    shufflenet.parameters(),\n",
    "    lr= 1e-3,\n",
    "    betas= (0.9, 0.999),\n",
    "    final_lr = 0.1,\n",
    "    gamma=1e-3,\n",
    "    eps= 1e-8,\n",
    "    weight_decay=0,\n",
    "    amsbound=False,\n",
    ")\n",
    "\n",
    "# Initializing Loss Function\n",
    "loss_fn = nn.CrossEntropyLoss()"
   ]
  },
  {
   "cell_type": "code",
   "execution_count": null,
   "id": "2839a6b2",
   "metadata": {
    "pycharm": {
     "name": "#%%\n"
    }
   },
   "outputs": [],
   "source": [
    "shuffle_adb, train_loss_adb = train_model(shufflenet)"
   ]
  },
  {
   "cell_type": "code",
   "execution_count": null,
   "id": "5fffb450",
   "metadata": {
    "pycharm": {
     "name": "#%%\n"
    }
   },
   "outputs": [],
   "source": [
    "test_model(shuffle_adb)"
   ]
  },
  {
   "cell_type": "code",
   "execution_count": null,
   "id": "077113ae",
   "metadata": {
    "pycharm": {
     "name": "#%%\n"
    }
   },
   "outputs": [],
   "source": []
  },
  {
   "cell_type": "code",
   "execution_count": null,
   "id": "2ef320f8",
   "metadata": {
    "pycharm": {
     "name": "#%%\n"
    }
   },
   "outputs": [],
   "source": [
    "# Train Loss v Test Accuracy Plot_AdaBound\n",
    "plt.figure(figsize=(14,8))\n",
    "plt.plot(train_loss_adb, color='r')\n",
    "plt.xlabel('Epochs')\n",
    "plt.ylabel('Accuracy_Loss')\n",
    "plt.legend(['Train Loss','Test Accuracy'])\n",
    "plt.title('Train Loss vs Test Accuracy Plot_ShuffleNet v2_AdaBound Optimizer')\n",
    "plt.show()"
   ]
  },
  {
   "cell_type": "code",
   "execution_count": null,
   "id": "7e526901",
   "metadata": {
    "pycharm": {
     "name": "#%%\n"
    }
   },
   "outputs": [],
   "source": [
    "# Saving ShuffleNet v2 model -> AdaBound Optimizer\n",
    "torch.save(shuffle_adb.state_dict(), os.path.join(owd, 'ShuffleNet v2__AdaBound.pth'))"
   ]
  },
  {
   "cell_type": "code",
   "execution_count": null,
   "id": "46e883cc",
   "metadata": {
    "pycharm": {
     "name": "#%%\n"
    }
   },
   "outputs": [],
   "source": [
    "plt.figure(figsize=(14,8))\n",
    "plt.plot(train_loss_adam, color='r')\n",
    "plt.plot(train_loss_sgd, color='blue')\n",
    "plt.plot(train_loss_rms, color='g')\n",
    "plt.plot(train_loss_adb, color='black')\n",
    "plt.xlabel('Epochs')\n",
    "plt.ylabel('Accuracy_Loss')\n",
    "plt.legend(['resnet_adam','resnet_sgd_momentum', 'resnet_RMSProp','shufflenet_AdaBound'])\n",
    "plt.title('training loss comparison')\n",
    "plt.show()\n"
   ]
  },
  {
   "cell_type": "code",
   "execution_count": null,
   "id": "b3ef60cc",
   "metadata": {
    "pycharm": {
     "name": "#%%\n"
    }
   },
   "outputs": [],
   "source": []
  },
  {
   "cell_type": "code",
   "execution_count": null,
   "id": "6c6f41af",
   "metadata": {
    "pycharm": {
     "name": "#%%\n"
    }
   },
   "outputs": [],
   "source": []
  },
  {
   "cell_type": "code",
   "execution_count": null,
   "id": "ce4996c1",
   "metadata": {
    "pycharm": {
     "name": "#%%\n"
    }
   },
   "outputs": [],
   "source": []
  },
  {
   "cell_type": "code",
   "execution_count": null,
   "id": "10cc3748",
   "metadata": {
    "pycharm": {
     "name": "#%%\n"
    }
   },
   "outputs": [],
   "source": []
  },
  {
   "cell_type": "code",
   "execution_count": 40,
   "id": "41649656",
   "metadata": {
    "id": "41649656",
    "outputId": "015312d2-cca4-4db2-e522-c1f42ee708eb",
    "pycharm": {
     "name": "#%%\n"
    }
   },
   "outputs": [
    {
     "name": "stdout",
     "output_type": "stream",
     "text": [
      "Accuracy of the network on the test images: 96 %\n"
     ]
    }
   ],
   "source": [
    "test_model(shuffle_adb)"
   ]
  },
  {
   "cell_type": "code",
   "execution_count": null,
   "id": "b963782d",
   "metadata": {
    "id": "b963782d",
    "outputId": "3badbb29-eb5c-449e-ad3b-dd9b0f21ba01",
    "pycharm": {
     "name": "#%%\n"
    }
   },
   "outputs": [],
   "source": []
  },
  {
   "cell_type": "code",
   "execution_count": 41,
   "id": "dd27ca14",
   "metadata": {
    "id": "dd27ca14",
    "outputId": "0f18e69b-ca15-4719-9ba1-c75d56b7881f",
    "pycharm": {
     "name": "#%%\n"
    }
   },
   "outputs": [
    {
     "data": {
      "image/png": "[encoded data removed]",
      "text/plain": [
       "<Figure size 1400x800 with 1 Axes>"
      ]
     },
     "metadata": {},
     "output_type": "display_data"
    }
   ],
   "source": [
    "# Train Loss v Test Accuracy Plot_AdaBound\n",
    "plt.figure(figsize=(14,8))\n",
    "plt.plot(train_loss_adb, color='r')\n",
    "plt.xlabel('Epochs')\n",
    "plt.ylabel('Accuracy_Loss')\n",
    "plt.legend(['Train Loss','Test Accuracy'])\n",
    "plt.title('Train Loss vs Test Accuracy Plot_ShuffleNet v2_AdaBound Optimizer')\n",
    "plt.show()"
   ]
  },
  {
   "cell_type": "code",
   "execution_count": 118,
   "id": "5a76eb9f",
   "metadata": {
    "id": "5a76eb9f",
    "pycharm": {
     "name": "#%%\n"
    }
   },
   "outputs": [],
   "source": [
    "# Saving ShuffleNet v2 model -> AdaBound Optimizer\n",
    "torch.save(shuffle_adb.state_dict(), os.path.join(owd, 'ShuffleNet v2__AdaBound.pth'))"
   ]
  },
  {
   "cell_type": "code",
   "execution_count": 42,
   "id": "60e0562b",
   "metadata": {
    "id": "60e0562b",
    "pycharm": {
     "name": "#%%\n"
    }
   },
   "outputs": [
    {
     "data": {
      "image/png": "[encoded data removed]",
      "text/plain": [
       "<Figure size 1400x800 with 1 Axes>"
      ]
     },
     "metadata": {},
     "output_type": "display_data"
    }
   ],
   "source": [
    "plt.figure(figsize=(14,8))\n",
    "plt.plot(train_loss_adam, color='r')\n",
    "plt.plot(train_loss_sgd, color='blue')\n",
    "plt.plot(train_loss_rms, color='g')\n",
    "plt.plot(train_loss_adb, color='black')\n",
    "plt.xlabel('Epochs')\n",
    "plt.ylabel('Accuracy_Loss')\n",
    "plt.legend(['resnet_adam','resnet_sgd_momentum', 'resnet_RMSProp','shufflenet_AdaBound'])\n",
    "plt.title('training loss comparison')\n",
    "plt.show()\n"
   ]
  },
  {
   "cell_type": "code",
   "execution_count": null,
   "id": "f64b67a9",
   "metadata": {
    "pycharm": {
     "name": "#%%\n"
    }
   },
   "outputs": [],
   "source": []
  },
  {
   "cell_type": "code",
   "execution_count": null,
   "id": "b7ab7a71",
   "metadata": {
    "pycharm": {
     "name": "#%%\n"
    }
   },
   "outputs": [],
   "source": []
  },
  {
   "cell_type": "code",
   "execution_count": null,
   "id": "0593f0a4",
   "metadata": {
    "pycharm": {
     "name": "#%%\n"
    }
   },
   "outputs": [],
   "source": []
  },
  {
   "cell_type": "code",
   "execution_count": null,
   "id": "41ffd4a9",
   "metadata": {
    "pycharm": {
     "name": "#%%\n"
    }
   },
   "outputs": [],
   "source": []
  },
  {
   "cell_type": "code",
   "execution_count": null,
   "id": "3b427400",
   "metadata": {
    "pycharm": {
     "name": "#%%\n"
    }
   },
   "outputs": [],
   "source": []
  }
 ],
 "metadata": {
  "colab": {
   "collapsed_sections": [
    "5834991a",
    "6fd90e07",
    "e13556a9",
    "e10071c1",
    "1f2f7b81"
   ],
   "provenance": []
  },
  "kernelspec": {
   "display_name": "Python 3 (ipykernel)",
   "language": "python",
   "name": "python3"
  },
  "language_info": {
   "codemirror_mode": {
    "name": "ipython",
    "version": 3
   },
   "file_extension": ".py",
   "mimetype": "text/x-python",
   "name": "python",
   "nbconvert_exporter": "python",
   "pygments_lexer": "ipython3",
   "version": "3.8.0"
  }
 },
 "nbformat": 4,
 "nbformat_minor": 5
}
